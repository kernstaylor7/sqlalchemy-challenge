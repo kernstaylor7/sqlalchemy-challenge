{
 "cells": [
  {
   "cell_type": "code",
   "execution_count": null,
   "metadata": {},
   "outputs": [],
   "source": [
    "from flask import Flask, jsonify\n",
    "import numpy as np\n",
    "import datetime as dt"
   ]
  },
  {
   "cell_type": "code",
   "execution_count": null,
   "metadata": {},
   "outputs": [],
   "source": [
    "import sqlalchemy\n",
    "from sqlalchemy.ext.automap import automap_base\n",
    "from sqlalchemy.orm import Session\n",
    "from sqlalchemy import create_engine, func, inspect\n",
    "from sqlalchemy.pool import StaticPool"
   ]
  },
  {
   "cell_type": "code",
   "execution_count": null,
   "metadata": {},
   "outputs": [],
   "source": [
    "engine=create_engine('sqlite:///hawaii.sqlite')"
   ]
  },
  {
   "cell_type": "code",
   "execution_count": null,
   "metadata": {},
   "outputs": [],
   "source": [
    "base=automap_base()\n",
    "base.prepare(engine, reflect=True)"
   ]
  },
  {
   "cell_type": "code",
   "execution_count": null,
   "metadata": {},
   "outputs": [],
   "source": [
    "measurement=base.classes.measurement\n",
    "station=base.classes.station"
   ]
  },
  {
   "cell_type": "code",
   "execution_count": null,
   "metadata": {},
   "outputs": [],
   "source": [
    "app=Flask(__name__)"
   ]
  },
  {
   "cell_type": "code",
   "execution_count": null,
   "metadata": {},
   "outputs": [],
   "source": [
    "@app.route('/')\n",
    "def welcome():\n",
    "    '''List all available API pathways'''\n",
    "    return(\n",
    "        f'Available Paths:<br/>'\n",
    "        f'/api/v1.0/precipitation:<br/>'\n",
    "        f'/api/v1.0/stations:<br/>'\n",
    "        f'/api/v1.0/tobs:<br/>'\n",
    "        f'/api/v1.0/<start<br/>'\n",
    "        f'/api/v1.0/<start>/<end<br/>')"
   ]
  },
  {
   "cell_type": "code",
   "execution_count": null,
   "metadata": {},
   "outputs": [],
   "source": [
    "@app.route('/api/v1.0/precipitation')\n",
    "def precipitation():\n",
    "    last_year =dt.date(2017,8,23)-dt.timedelta(days=365)\n",
    "    rain_data=session.query(measurement.date, measurement.prcp).\\\n",
    "        filter(measurement.date >= last_year).\\\n",
    "        order_by(measurement.date).all()\n",
    "    rain_df=dict(rain_data)\n",
    "    return jsonify(rain_df)"
   ]
  },
  {
   "cell_type": "code",
   "execution_count": null,
   "metadata": {},
   "outputs": [],
   "source": [
    "@app.route('/api/v1.0/stations')\n",
    "def stations():\n",
    "    station_data=session.query(station.name, station.station)\n",
    "    station_df=pd.read_sql(station_data.statement, station_data.session.bind)\n",
    "    return jsonify(station_df.to_dict())\n",
    "def tobs():\n",
    "    '''Temperatures (tobs) for previous year'''\n",
    "    close_day=sessions.query(measurement.date).order_by(measurement.date.desc()).first()\n",
    "    close_year=dt.date(2017,8,23)-dt.dtimedelta(days=365)\n",
    "    temperature=sessions.query(measurement.date, measurement.tobs).\\\n",
    "        filter(measurement.date > close_year).\\\n",
    "        order_by(measurement.date).all()\n",
    "    \n",
    "    total_temp=[]\n",
    "    for result in temperature:\n",
    "        row ={}\n",
    "        row['date']=temperature[0]\n",
    "        row['tobs']=temperature[1]\n",
    "        total_temp.append(row)\n",
    "    return josonify(total_temp)"
   ]
  },
  {
   "cell_type": "code",
   "execution_count": null,
   "metadata": {},
   "outputs": [],
   "source": [
    "@app.route('/api/v1.0/<start>')\n",
    "def start():\n",
    "    close_day=dt.datetime.strptime(start, 2017,8, 23)\n",
    "    year=dt.timedelta(days=365)\n",
    "    open_day=close_day-year\n",
    "    ending_day=dt.date(2017, 8, 23)\n",
    "    trip=session.query(func.min(measurement.tobs), func.ave(meansurement.tobs), func.max(meansurement.tobs)).\\\n",
    "        filter(measurement.date >= start).filter(measurement.date <=end).all()\n",
    "    trip_data = list(np.ravel(trip_data))\n",
    "    return jasonify(trip_data)\n",
    "\n",
    "if __name__ == '__main__':\n",
    "    app.run(debug=True, use_reloader=False)\n",
    "    "
   ]
  },
  {
   "cell_type": "code",
   "execution_count": null,
   "metadata": {},
   "outputs": [],
   "source": []
  }
 ],
 "metadata": {
  "kernelspec": {
   "display_name": "Python 3",
   "language": "python",
   "name": "python3"
  },
  "language_info": {
   "codemirror_mode": {
    "name": "ipython",
    "version": 3
   },
   "file_extension": ".py",
   "mimetype": "text/x-python",
   "name": "python",
   "nbconvert_exporter": "python",
   "pygments_lexer": "ipython3",
   "version": "3.8.5"
  }
 },
 "nbformat": 4,
 "nbformat_minor": 4
}
